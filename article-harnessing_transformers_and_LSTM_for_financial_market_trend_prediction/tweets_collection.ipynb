{
 "cells": [
  {
   "cell_type": "code",
   "execution_count": 82,
   "metadata": {},
   "outputs": [],
   "source": [
    "import importlib\n",
    "import utils\n",
    "\n",
    "import os\n",
    "import pandas as pd\n",
    "import numpy as np\n",
    "import yfinance as yf\n",
    "from datetime import datetime\n",
    "from scipy.stats import mode\n",
    "import nltk\n",
    "\n",
    "from transformers import AutoTokenizer, AutoModelForSequenceClassification\n",
    "import torch\n",
    "from nltk.corpus import stopwords\n",
    "\n",
    "importlib.reload(utils)\n",
    "from utils import Preprocess_Tweets"
   ]
  },
  {
   "cell_type": "code",
   "execution_count": 47,
   "metadata": {},
   "outputs": [],
   "source": [
    "end = datetime.now()\n",
    "start = datetime(end.year, end.month, end.day-7)"
   ]
  },
  {
   "cell_type": "code",
   "execution_count": 48,
   "metadata": {},
   "outputs": [
    {
     "name": "stderr",
     "output_type": "stream",
     "text": [
      "[*********************100%%**********************]  1 of 1 completed\n"
     ]
    }
   ],
   "source": [
    "stock = \"GOOG\"\n",
    "google_stock = yf.download(stock, start, end)"
   ]
  },
  {
   "cell_type": "code",
   "execution_count": 49,
   "metadata": {},
   "outputs": [
    {
     "data": {
      "text/html": [
       "<div>\n",
       "<style scoped>\n",
       "    .dataframe tbody tr th:only-of-type {\n",
       "        vertical-align: middle;\n",
       "    }\n",
       "\n",
       "    .dataframe tbody tr th {\n",
       "        vertical-align: top;\n",
       "    }\n",
       "\n",
       "    .dataframe thead th {\n",
       "        text-align: right;\n",
       "    }\n",
       "</style>\n",
       "<table border=\"1\" class=\"dataframe\">\n",
       "  <thead>\n",
       "    <tr style=\"text-align: right;\">\n",
       "      <th></th>\n",
       "      <th>Open</th>\n",
       "      <th>High</th>\n",
       "      <th>Low</th>\n",
       "      <th>Close</th>\n",
       "      <th>Adj Close</th>\n",
       "      <th>Volume</th>\n",
       "    </tr>\n",
       "    <tr>\n",
       "      <th>Date</th>\n",
       "      <th></th>\n",
       "      <th></th>\n",
       "      <th></th>\n",
       "      <th></th>\n",
       "      <th></th>\n",
       "      <th></th>\n",
       "    </tr>\n",
       "  </thead>\n",
       "  <tbody>\n",
       "    <tr>\n",
       "      <th>2024-07-08</th>\n",
       "      <td>191.365005</td>\n",
       "      <td>191.679001</td>\n",
       "      <td>189.320007</td>\n",
       "      <td>190.479996</td>\n",
       "      <td>190.479996</td>\n",
       "      <td>12097600</td>\n",
       "    </tr>\n",
       "    <tr>\n",
       "      <th>2024-07-09</th>\n",
       "      <td>191.750000</td>\n",
       "      <td>192.860001</td>\n",
       "      <td>190.229996</td>\n",
       "      <td>190.440002</td>\n",
       "      <td>190.440002</td>\n",
       "      <td>10198500</td>\n",
       "    </tr>\n",
       "    <tr>\n",
       "      <th>2024-07-10</th>\n",
       "      <td>190.750000</td>\n",
       "      <td>193.309998</td>\n",
       "      <td>190.619995</td>\n",
       "      <td>192.660004</td>\n",
       "      <td>192.660004</td>\n",
       "      <td>12052900</td>\n",
       "    </tr>\n",
       "    <tr>\n",
       "      <th>2024-07-11</th>\n",
       "      <td>191.339996</td>\n",
       "      <td>192.410004</td>\n",
       "      <td>186.820007</td>\n",
       "      <td>187.300003</td>\n",
       "      <td>187.300003</td>\n",
       "      <td>16452000</td>\n",
       "    </tr>\n",
       "    <tr>\n",
       "      <th>2024-07-12</th>\n",
       "      <td>186.919998</td>\n",
       "      <td>188.690002</td>\n",
       "      <td>186.139999</td>\n",
       "      <td>186.779999</td>\n",
       "      <td>186.779999</td>\n",
       "      <td>14429100</td>\n",
       "    </tr>\n",
       "  </tbody>\n",
       "</table>\n",
       "</div>"
      ],
      "text/plain": [
       "                  Open        High         Low       Close   Adj Close  \\\n",
       "Date                                                                     \n",
       "2024-07-08  191.365005  191.679001  189.320007  190.479996  190.479996   \n",
       "2024-07-09  191.750000  192.860001  190.229996  190.440002  190.440002   \n",
       "2024-07-10  190.750000  193.309998  190.619995  192.660004  192.660004   \n",
       "2024-07-11  191.339996  192.410004  186.820007  187.300003  187.300003   \n",
       "2024-07-12  186.919998  188.690002  186.139999  186.779999  186.779999   \n",
       "\n",
       "              Volume  \n",
       "Date                  \n",
       "2024-07-08  12097600  \n",
       "2024-07-09  10198500  \n",
       "2024-07-10  12052900  \n",
       "2024-07-11  16452000  \n",
       "2024-07-12  14429100  "
      ]
     },
     "execution_count": 49,
     "metadata": {},
     "output_type": "execute_result"
    }
   ],
   "source": [
    "google_stock.head()"
   ]
  },
  {
   "cell_type": "code",
   "execution_count": 50,
   "metadata": {},
   "outputs": [
    {
     "data": {
      "text/html": [
       "<div>\n",
       "<style scoped>\n",
       "    .dataframe tbody tr th:only-of-type {\n",
       "        vertical-align: middle;\n",
       "    }\n",
       "\n",
       "    .dataframe tbody tr th {\n",
       "        vertical-align: top;\n",
       "    }\n",
       "\n",
       "    .dataframe thead th {\n",
       "        text-align: right;\n",
       "    }\n",
       "</style>\n",
       "<table border=\"1\" class=\"dataframe\">\n",
       "  <thead>\n",
       "    <tr style=\"text-align: right;\">\n",
       "      <th></th>\n",
       "      <th>Date</th>\n",
       "      <th>Tweet</th>\n",
       "    </tr>\n",
       "  </thead>\n",
       "  <tbody>\n",
       "    <tr>\n",
       "      <th>0</th>\n",
       "      <td>Tue Jan 02 21:09:21 +0000 2018</td>\n",
       "      <td>Good closing #price on $GE today. Looking forw...</td>\n",
       "    </tr>\n",
       "    <tr>\n",
       "      <th>1</th>\n",
       "      <td>Sun Jan 14 16:19:31 +0000 2018</td>\n",
       "      <td>$GE is a long term #buy at today's #stock pric...</td>\n",
       "    </tr>\n",
       "    <tr>\n",
       "      <th>2</th>\n",
       "      <td>Fri Jan 05 21:25:31 +0000 2018</td>\n",
       "      <td>Watch Us Report LIVE from the Floor of the NYS...</td>\n",
       "    </tr>\n",
       "    <tr>\n",
       "      <th>3</th>\n",
       "      <td>Tue Jan 16 17:49:14 +0000 2018</td>\n",
       "      <td>Just a Fun Fact on #DJIA   RSI on Dow Jones We...</td>\n",
       "    </tr>\n",
       "    <tr>\n",
       "      <th>4</th>\n",
       "      <td>Wed Jan 17 08:15:51 +0000 2018</td>\n",
       "      <td>Repeat after me: the 👏🏼 Dow 👏🏼 Jones 👏🏼 doesn’...</td>\n",
       "    </tr>\n",
       "    <tr>\n",
       "      <th>5</th>\n",
       "      <td>Fri Jan 05 21:23:49 +0000 2018</td>\n",
       "      <td>Watch Us Report LIVE from the Floor of the NYS...</td>\n",
       "    </tr>\n",
       "    <tr>\n",
       "      <th>6</th>\n",
       "      <td>Wed Jan 31 14:40:47 +0000 2018</td>\n",
       "      <td>Which Way Wednesday - Fed Edition $AAPL $DIA #...</td>\n",
       "    </tr>\n",
       "    <tr>\n",
       "      <th>7</th>\n",
       "      <td>Thu Jan 25 16:15:23 +0000 2018</td>\n",
       "      <td>Greater Fool Theory: buy a stock at an outrage...</td>\n",
       "    </tr>\n",
       "    <tr>\n",
       "      <th>8</th>\n",
       "      <td>Fri Jan 26 19:14:08 +0000 2018</td>\n",
       "      <td>How to follow Stock Price Movement for Profit....</td>\n",
       "    </tr>\n",
       "    <tr>\n",
       "      <th>9</th>\n",
       "      <td>Sat Jan 27 18:42:32 +0000 2018</td>\n",
       "      <td>Notable Earnings 📈📉  M $IDTI $LMT $RMBS  Tue $...</td>\n",
       "    </tr>\n",
       "    <tr>\n",
       "      <th>10</th>\n",
       "      <td>Mon Jan 08 01:11:05 +0000 2018</td>\n",
       "      <td>Our Book: Charting Wealth, Chapter 5. Candlest...</td>\n",
       "    </tr>\n",
       "    <tr>\n",
       "      <th>11</th>\n",
       "      <td>Fri Jan 26 21:40:28 +0000 2018</td>\n",
       "      <td>Got most of my $STM loss from yesterday back. ...</td>\n",
       "    </tr>\n",
       "    <tr>\n",
       "      <th>12</th>\n",
       "      <td>Sat Jan 06 07:00:21 +0000 2018</td>\n",
       "      <td>$SPY Heres recap of my trades for the week tha...</td>\n",
       "    </tr>\n",
       "    <tr>\n",
       "      <th>13</th>\n",
       "      <td>Fri Jan 19 21:06:07 +0000 2018</td>\n",
       "      <td>Wait.  I thought earnings were the thing that ...</td>\n",
       "    </tr>\n",
       "    <tr>\n",
       "      <th>14</th>\n",
       "      <td>Mon Jan 08 14:20:45 +0000 2018</td>\n",
       "      <td>Monday Market Madness - Who's Watching the Wat...</td>\n",
       "    </tr>\n",
       "  </tbody>\n",
       "</table>\n",
       "</div>"
      ],
      "text/plain": [
       "                              Date  \\\n",
       "0   Tue Jan 02 21:09:21 +0000 2018   \n",
       "1   Sun Jan 14 16:19:31 +0000 2018   \n",
       "2   Fri Jan 05 21:25:31 +0000 2018   \n",
       "3   Tue Jan 16 17:49:14 +0000 2018   \n",
       "4   Wed Jan 17 08:15:51 +0000 2018   \n",
       "5   Fri Jan 05 21:23:49 +0000 2018   \n",
       "6   Wed Jan 31 14:40:47 +0000 2018   \n",
       "7   Thu Jan 25 16:15:23 +0000 2018   \n",
       "8   Fri Jan 26 19:14:08 +0000 2018   \n",
       "9   Sat Jan 27 18:42:32 +0000 2018   \n",
       "10  Mon Jan 08 01:11:05 +0000 2018   \n",
       "11  Fri Jan 26 21:40:28 +0000 2018   \n",
       "12  Sat Jan 06 07:00:21 +0000 2018   \n",
       "13  Fri Jan 19 21:06:07 +0000 2018   \n",
       "14  Mon Jan 08 14:20:45 +0000 2018   \n",
       "\n",
       "                                                Tweet  \n",
       "0   Good closing #price on $GE today. Looking forw...  \n",
       "1   $GE is a long term #buy at today's #stock pric...  \n",
       "2   Watch Us Report LIVE from the Floor of the NYS...  \n",
       "3   Just a Fun Fact on #DJIA   RSI on Dow Jones We...  \n",
       "4   Repeat after me: the 👏🏼 Dow 👏🏼 Jones 👏🏼 doesn’...  \n",
       "5   Watch Us Report LIVE from the Floor of the NYS...  \n",
       "6   Which Way Wednesday - Fed Edition $AAPL $DIA #...  \n",
       "7   Greater Fool Theory: buy a stock at an outrage...  \n",
       "8   How to follow Stock Price Movement for Profit....  \n",
       "9   Notable Earnings 📈📉  M $IDTI $LMT $RMBS  Tue $...  \n",
       "10  Our Book: Charting Wealth, Chapter 5. Candlest...  \n",
       "11  Got most of my $STM loss from yesterday back. ...  \n",
       "12  $SPY Heres recap of my trades for the week tha...  \n",
       "13  Wait.  I thought earnings were the thing that ...  \n",
       "14  Monday Market Madness - Who's Watching the Wat...  "
      ]
     },
     "execution_count": 50,
     "metadata": {},
     "output_type": "execute_result"
    }
   ],
   "source": [
    "tweetsDf = pd.read_csv(\"tweets.csv\")\n",
    "tweetsDf.head(15)"
   ]
  },
  {
   "cell_type": "code",
   "execution_count": 51,
   "metadata": {},
   "outputs": [
    {
     "data": {
      "text/html": [
       "<div>\n",
       "<style scoped>\n",
       "    .dataframe tbody tr th:only-of-type {\n",
       "        vertical-align: middle;\n",
       "    }\n",
       "\n",
       "    .dataframe tbody tr th {\n",
       "        vertical-align: top;\n",
       "    }\n",
       "\n",
       "    .dataframe thead th {\n",
       "        text-align: right;\n",
       "    }\n",
       "</style>\n",
       "<table border=\"1\" class=\"dataframe\">\n",
       "  <thead>\n",
       "    <tr style=\"text-align: right;\">\n",
       "      <th></th>\n",
       "      <th>Date</th>\n",
       "      <th>Tweet</th>\n",
       "    </tr>\n",
       "  </thead>\n",
       "  <tbody>\n",
       "    <tr>\n",
       "      <th>0</th>\n",
       "      <td>2018-01-02</td>\n",
       "      <td>Good closing #price on $GE today. Looking forw...</td>\n",
       "    </tr>\n",
       "    <tr>\n",
       "      <th>1</th>\n",
       "      <td>2018-01-14</td>\n",
       "      <td>$GE is a long term #buy at today's #stock pric...</td>\n",
       "    </tr>\n",
       "    <tr>\n",
       "      <th>2</th>\n",
       "      <td>2018-01-05</td>\n",
       "      <td>Watch Us Report LIVE from the Floor of the NYS...</td>\n",
       "    </tr>\n",
       "    <tr>\n",
       "      <th>3</th>\n",
       "      <td>2018-01-16</td>\n",
       "      <td>Just a Fun Fact on #DJIA   RSI on Dow Jones We...</td>\n",
       "    </tr>\n",
       "    <tr>\n",
       "      <th>4</th>\n",
       "      <td>2018-01-17</td>\n",
       "      <td>Repeat after me: the 👏🏼 Dow 👏🏼 Jones 👏🏼 doesn’...</td>\n",
       "    </tr>\n",
       "  </tbody>\n",
       "</table>\n",
       "</div>"
      ],
      "text/plain": [
       "         Date                                              Tweet\n",
       "0  2018-01-02  Good closing #price on $GE today. Looking forw...\n",
       "1  2018-01-14  $GE is a long term #buy at today's #stock pric...\n",
       "2  2018-01-05  Watch Us Report LIVE from the Floor of the NYS...\n",
       "3  2018-01-16  Just a Fun Fact on #DJIA   RSI on Dow Jones We...\n",
       "4  2018-01-17  Repeat after me: the 👏🏼 Dow 👏🏼 Jones 👏🏼 doesn’..."
      ]
     },
     "execution_count": 51,
     "metadata": {},
     "output_type": "execute_result"
    }
   ],
   "source": [
    "# Convert the Date column to datetime\n",
    "tweetsDf['Date'] = pd.to_datetime(tweetsDf['Date'], format='%a %b %d %H:%M:%S %z %Y')\n",
    "\n",
    "# Format the Date column to the desired format\n",
    "tweetsDf['Date'] = tweetsDf['Date'].dt.strftime('%Y-%m-%d')\n",
    "\n",
    "tweetsDf.head()"
   ]
  },
  {
   "cell_type": "code",
   "execution_count": 52,
   "metadata": {},
   "outputs": [
    {
     "data": {
      "text/html": [
       "<div>\n",
       "<style scoped>\n",
       "    .dataframe tbody tr th:only-of-type {\n",
       "        vertical-align: middle;\n",
       "    }\n",
       "\n",
       "    .dataframe tbody tr th {\n",
       "        vertical-align: top;\n",
       "    }\n",
       "\n",
       "    .dataframe thead th {\n",
       "        text-align: right;\n",
       "    }\n",
       "</style>\n",
       "<table border=\"1\" class=\"dataframe\">\n",
       "  <thead>\n",
       "    <tr style=\"text-align: right;\">\n",
       "      <th></th>\n",
       "      <th>Date</th>\n",
       "      <th>Tweet</th>\n",
       "      <th>Tweet_Cleaned</th>\n",
       "    </tr>\n",
       "  </thead>\n",
       "  <tbody>\n",
       "    <tr>\n",
       "      <th>0</th>\n",
       "      <td>2018-01-02</td>\n",
       "      <td>Good closing #price on $GE today. Looking forw...</td>\n",
       "      <td>good closing on ge today looking forward to mo...</td>\n",
       "    </tr>\n",
       "    <tr>\n",
       "      <th>1</th>\n",
       "      <td>2018-01-14</td>\n",
       "      <td>$GE is a long term #buy at today's #stock pric...</td>\n",
       "      <td>ge is a long term at todays price aapl amzn ba...</td>\n",
       "    </tr>\n",
       "    <tr>\n",
       "      <th>2</th>\n",
       "      <td>2018-01-05</td>\n",
       "      <td>Watch Us Report LIVE from the Floor of the NYS...</td>\n",
       "      <td>watch us report live from the floor of the nys...</td>\n",
       "    </tr>\n",
       "    <tr>\n",
       "      <th>3</th>\n",
       "      <td>2018-01-16</td>\n",
       "      <td>Just a Fun Fact on #DJIA   RSI on Dow Jones We...</td>\n",
       "      <td>just a fun fact on rsi on dow jones weekly cha...</td>\n",
       "    </tr>\n",
       "    <tr>\n",
       "      <th>4</th>\n",
       "      <td>2018-01-17</td>\n",
       "      <td>Repeat after me: the 👏🏼 Dow 👏🏼 Jones 👏🏼 doesn’...</td>\n",
       "      <td>repeat after me the 👏🏼 dow 👏🏼 jones 👏🏼 doesn’t...</td>\n",
       "    </tr>\n",
       "    <tr>\n",
       "      <th>...</th>\n",
       "      <td>...</td>\n",
       "      <td>...</td>\n",
       "      <td>...</td>\n",
       "    </tr>\n",
       "    <tr>\n",
       "      <th>8004</th>\n",
       "      <td>2024-06-13</td>\n",
       "      <td>Very quiet day again, digestion. $SMH $NVDA $A...</td>\n",
       "      <td>very quiet day again digestion smh nvda avgo m...</td>\n",
       "    </tr>\n",
       "    <tr>\n",
       "      <th>8005</th>\n",
       "      <td>2024-06-08</td>\n",
       "      <td>Opp cost is real. While u have been sitting in...</td>\n",
       "      <td>opp cost is real while u have been sitting in ...</td>\n",
       "    </tr>\n",
       "    <tr>\n",
       "      <th>8006</th>\n",
       "      <td>2024-06-10</td>\n",
       "      <td>Overall very quiet day. $SMH new ath.. $MU $AR...</td>\n",
       "      <td>overall very quiet day smh new ath mu arm lead...</td>\n",
       "    </tr>\n",
       "    <tr>\n",
       "      <th>8007</th>\n",
       "      <td>2024-06-28</td>\n",
       "      <td>There's no debate about it, the markets did NO...</td>\n",
       "      <td>theres no debate about it the markets did not ...</td>\n",
       "    </tr>\n",
       "    <tr>\n",
       "      <th>8008</th>\n",
       "      <td>2024-06-30</td>\n",
       "      <td>Let's track these a BIG TECH monthly charts!  ...</td>\n",
       "      <td>lets track these a big tech monthly charts tsl...</td>\n",
       "    </tr>\n",
       "  </tbody>\n",
       "</table>\n",
       "<p>8009 rows × 3 columns</p>\n",
       "</div>"
      ],
      "text/plain": [
       "            Date                                              Tweet  \\\n",
       "0     2018-01-02  Good closing #price on $GE today. Looking forw...   \n",
       "1     2018-01-14  $GE is a long term #buy at today's #stock pric...   \n",
       "2     2018-01-05  Watch Us Report LIVE from the Floor of the NYS...   \n",
       "3     2018-01-16  Just a Fun Fact on #DJIA   RSI on Dow Jones We...   \n",
       "4     2018-01-17  Repeat after me: the 👏🏼 Dow 👏🏼 Jones 👏🏼 doesn’...   \n",
       "...          ...                                                ...   \n",
       "8004  2024-06-13  Very quiet day again, digestion. $SMH $NVDA $A...   \n",
       "8005  2024-06-08  Opp cost is real. While u have been sitting in...   \n",
       "8006  2024-06-10  Overall very quiet day. $SMH new ath.. $MU $AR...   \n",
       "8007  2024-06-28  There's no debate about it, the markets did NO...   \n",
       "8008  2024-06-30  Let's track these a BIG TECH monthly charts!  ...   \n",
       "\n",
       "                                          Tweet_Cleaned  \n",
       "0     good closing on ge today looking forward to mo...  \n",
       "1     ge is a long term at todays price aapl amzn ba...  \n",
       "2     watch us report live from the floor of the nys...  \n",
       "3     just a fun fact on rsi on dow jones weekly cha...  \n",
       "4     repeat after me the 👏🏼 dow 👏🏼 jones 👏🏼 doesn’t...  \n",
       "...                                                 ...  \n",
       "8004  very quiet day again digestion smh nvda avgo m...  \n",
       "8005  opp cost is real while u have been sitting in ...  \n",
       "8006  overall very quiet day smh new ath mu arm lead...  \n",
       "8007  theres no debate about it the markets did not ...  \n",
       "8008  lets track these a big tech monthly charts tsl...  \n",
       "\n",
       "[8009 rows x 3 columns]"
      ]
     },
     "execution_count": 52,
     "metadata": {},
     "output_type": "execute_result"
    }
   ],
   "source": [
    "Preprocess_Tweets(tweetsDf)"
   ]
  },
  {
   "cell_type": "code",
   "execution_count": null,
   "metadata": {},
   "outputs": [],
   "source": [
    "print(stopwords.words('english'))"
   ]
  },
  {
   "cell_type": "code",
   "execution_count": 86,
   "metadata": {},
   "outputs": [],
   "source": [
    "StopWords = set([s.replace(\"'\", \"\") for s in stopwords.words('english') if s not in [\"not\", \"up\", \"down\", \"above\", \"below\", \"under\", \"over\"]])\n",
    "\n",
    "tweetsDf['Tweet_Cleaned'] = tweetsDf['Tweet_Cleaned'].apply(lambda x: ' '.join([word for word in x.split() if word not in StopWords]))\n",
    "tweetsDf['Tweet_Cleaned'] = tweetsDf['Tweet_Cleaned'].str.strip()"
   ]
  },
  {
   "cell_type": "code",
   "execution_count": 53,
   "metadata": {},
   "outputs": [],
   "source": [
    "tweetsDf = tweetsDf.drop(['Tweet'], axis=1)"
   ]
  },
  {
   "cell_type": "code",
   "execution_count": 55,
   "metadata": {},
   "outputs": [
    {
     "data": {
      "application/vnd.jupyter.widget-view+json": {
       "model_id": "de7eabdd265041c9ad845963d1f9949e",
       "version_major": 2,
       "version_minor": 0
      },
      "text/plain": [
       "tokenizer_config.json:   0%|          | 0.00/39.0 [00:00<?, ?B/s]"
      ]
     },
     "metadata": {},
     "output_type": "display_data"
    },
    {
     "data": {
      "application/vnd.jupyter.widget-view+json": {
       "model_id": "f992208dfa8d4bdb86f0ea5c9e435210",
       "version_major": 2,
       "version_minor": 0
      },
      "text/plain": [
       "config.json:   0%|          | 0.00/953 [00:00<?, ?B/s]"
      ]
     },
     "metadata": {},
     "output_type": "display_data"
    },
    {
     "data": {
      "application/vnd.jupyter.widget-view+json": {
       "model_id": "88dd6614be4e438aa1bc04d17eae514a",
       "version_major": 2,
       "version_minor": 0
      },
      "text/plain": [
       "vocab.txt:   0%|          | 0.00/872k [00:00<?, ?B/s]"
      ]
     },
     "metadata": {},
     "output_type": "display_data"
    },
    {
     "data": {
      "application/vnd.jupyter.widget-view+json": {
       "model_id": "b545683d685843a39dca49d34f948365",
       "version_major": 2,
       "version_minor": 0
      },
      "text/plain": [
       "special_tokens_map.json:   0%|          | 0.00/112 [00:00<?, ?B/s]"
      ]
     },
     "metadata": {},
     "output_type": "display_data"
    },
    {
     "data": {
      "application/vnd.jupyter.widget-view+json": {
       "model_id": "00269f910d02490c873fb0b106535612",
       "version_major": 2,
       "version_minor": 0
      },
      "text/plain": [
       "pytorch_model.bin:   0%|          | 0.00/669M [00:00<?, ?B/s]"
      ]
     },
     "metadata": {},
     "output_type": "display_data"
    }
   ],
   "source": [
    "tokenizer = AutoTokenizer.from_pretrained('nlptown/bert-base-multilingual-uncased-sentiment')\n",
    "\n",
    "model = AutoModelForSequenceClassification.from_pretrained('nlptown/bert-base-multilingual-uncased-sentiment')"
   ]
  },
  {
   "cell_type": "code",
   "execution_count": 56,
   "metadata": {},
   "outputs": [],
   "source": [
    "def sentiment_score(tweet):\n",
    "  tokens = tokenizer.encode(tweet, return_tensors='pt')\n",
    "  result = model(tokens)\n",
    "  return int(torch.argmax(result.logits))+1"
   ]
  },
  {
   "cell_type": "code",
   "execution_count": 93,
   "metadata": {},
   "outputs": [],
   "source": [
    "tweetsDf['sentiment'] = tweetsDf['Tweet_Cleaned'].apply(lambda x: sentiment_score(x[:512]))"
   ]
  },
  {
   "cell_type": "code",
   "execution_count": 96,
   "metadata": {},
   "outputs": [
    {
     "data": {
      "text/html": [
       "<div>\n",
       "<style scoped>\n",
       "    .dataframe tbody tr th:only-of-type {\n",
       "        vertical-align: middle;\n",
       "    }\n",
       "\n",
       "    .dataframe tbody tr th {\n",
       "        vertical-align: top;\n",
       "    }\n",
       "\n",
       "    .dataframe thead th {\n",
       "        text-align: right;\n",
       "    }\n",
       "</style>\n",
       "<table border=\"1\" class=\"dataframe\">\n",
       "  <thead>\n",
       "    <tr style=\"text-align: right;\">\n",
       "      <th></th>\n",
       "      <th>Date</th>\n",
       "      <th>Tweet_Cleaned</th>\n",
       "      <th>sentiment</th>\n",
       "    </tr>\n",
       "  </thead>\n",
       "  <tbody>\n",
       "    <tr>\n",
       "      <th>0</th>\n",
       "      <td>2018-01-02</td>\n",
       "      <td>good closing ge today looking forward activity...</td>\n",
       "      <td>4</td>\n",
       "    </tr>\n",
       "    <tr>\n",
       "      <th>1</th>\n",
       "      <td>2018-01-14</td>\n",
       "      <td>ge long term todays price aapl amzn baba cost ...</td>\n",
       "      <td>3</td>\n",
       "    </tr>\n",
       "    <tr>\n",
       "      <th>2</th>\n",
       "      <td>2018-01-05</td>\n",
       "      <td>watch us report live floor nyse weeks weekly w...</td>\n",
       "      <td>1</td>\n",
       "    </tr>\n",
       "    <tr>\n",
       "      <th>3</th>\n",
       "      <td>2018-01-16</td>\n",
       "      <td>fun fact rsi dow jones weekly chart 90.20 high...</td>\n",
       "      <td>5</td>\n",
       "    </tr>\n",
       "    <tr>\n",
       "      <th>4</th>\n",
       "      <td>2018-01-17</td>\n",
       "      <td>repeat 👏🏼 dow 👏🏼 jones 👏🏼 doesn’t 👏🏼 indicate ...</td>\n",
       "      <td>5</td>\n",
       "    </tr>\n",
       "    <tr>\n",
       "      <th>...</th>\n",
       "      <td>...</td>\n",
       "      <td>...</td>\n",
       "      <td>...</td>\n",
       "    </tr>\n",
       "    <tr>\n",
       "      <th>8004</th>\n",
       "      <td>2024-06-13</td>\n",
       "      <td>quiet day digestion smh nvda avgo mu etc conti...</td>\n",
       "      <td>5</td>\n",
       "    </tr>\n",
       "    <tr>\n",
       "      <th>8005</th>\n",
       "      <td>2024-06-08</td>\n",
       "      <td>opp cost real u sitting promised bagger stock ...</td>\n",
       "      <td>1</td>\n",
       "    </tr>\n",
       "    <tr>\n",
       "      <th>8006</th>\n",
       "      <td>2024-06-10</td>\n",
       "      <td>overall quiet day smh new ath mu arm leading g...</td>\n",
       "      <td>4</td>\n",
       "    </tr>\n",
       "    <tr>\n",
       "      <th>8007</th>\n",
       "      <td>2024-06-28</td>\n",
       "      <td>theres debate markets not like nkes report cha...</td>\n",
       "      <td>1</td>\n",
       "    </tr>\n",
       "    <tr>\n",
       "      <th>8008</th>\n",
       "      <td>2024-06-30</td>\n",
       "      <td>lets track big tech monthly charts tsla aapl m...</td>\n",
       "      <td>5</td>\n",
       "    </tr>\n",
       "  </tbody>\n",
       "</table>\n",
       "<p>8009 rows × 3 columns</p>\n",
       "</div>"
      ],
      "text/plain": [
       "            Date                                      Tweet_Cleaned  sentiment\n",
       "0     2018-01-02  good closing ge today looking forward activity...          4\n",
       "1     2018-01-14  ge long term todays price aapl amzn baba cost ...          3\n",
       "2     2018-01-05  watch us report live floor nyse weeks weekly w...          1\n",
       "3     2018-01-16  fun fact rsi dow jones weekly chart 90.20 high...          5\n",
       "4     2018-01-17  repeat 👏🏼 dow 👏🏼 jones 👏🏼 doesn’t 👏🏼 indicate ...          5\n",
       "...          ...                                                ...        ...\n",
       "8004  2024-06-13  quiet day digestion smh nvda avgo mu etc conti...          5\n",
       "8005  2024-06-08  opp cost real u sitting promised bagger stock ...          1\n",
       "8006  2024-06-10  overall quiet day smh new ath mu arm leading g...          4\n",
       "8007  2024-06-28  theres debate markets not like nkes report cha...          1\n",
       "8008  2024-06-30  lets track big tech monthly charts tsla aapl m...          5\n",
       "\n",
       "[8009 rows x 3 columns]"
      ]
     },
     "execution_count": 96,
     "metadata": {},
     "output_type": "execute_result"
    }
   ],
   "source": [
    "tweetsDf"
   ]
  },
  {
   "cell_type": "code",
   "execution_count": 108,
   "metadata": {},
   "outputs": [],
   "source": [
    "grouped = tweetsDf.groupby('Date')['sentiment'].apply(lambda x: x.mean().round().astype(int))\n",
    "\n",
    "date_sentiment = pd.DataFrame({'Date': grouped.index, 'SentimentIndicator': grouped.values})\n",
    "\n",
    "date_sentiment.to_csv('date_sentiment.csv', index=False)"
   ]
  },
  {
   "cell_type": "code",
   "execution_count": 110,
   "metadata": {},
   "outputs": [
    {
     "data": {
      "text/plain": [
       "SentimentIndicator\n",
       "2    848\n",
       "1    641\n",
       "3    411\n",
       "4    148\n",
       "5     96\n",
       "Name: count, dtype: int64"
      ]
     },
     "execution_count": 110,
     "metadata": {},
     "output_type": "execute_result"
    }
   ],
   "source": [
    "date_sentiment['SentimentIndicator'].value_counts()"
   ]
  },
  {
   "cell_type": "markdown",
   "metadata": {},
   "source": [
    "<p>On a scrapped tweets we made preprocessing converting all tweets in lower case, deleting StopWords, replace punctuations and made some replacements of slang words</p>\n",
    "<p>After we made tokenization of tweets and predicted sentiment of each tweet</p>\n",
    "<p>And as the result group all tweets by Date and made SentimentIndicator for each Date to determine main movement of Stock Market</p>"
   ]
  }
 ],
 "metadata": {
  "kernelspec": {
   "display_name": "Python 3",
   "language": "python",
   "name": "python3"
  },
  "language_info": {
   "codemirror_mode": {
    "name": "ipython",
    "version": 3
   },
   "file_extension": ".py",
   "mimetype": "text/x-python",
   "name": "python",
   "nbconvert_exporter": "python",
   "pygments_lexer": "ipython3",
   "version": "3.11.4"
  }
 },
 "nbformat": 4,
 "nbformat_minor": 2
}
